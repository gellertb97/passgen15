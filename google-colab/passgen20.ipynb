{
  "nbformat": 4,
  "nbformat_minor": 0,
  "metadata": {
    "colab": {
      "name": "passgen20.ipynb",
      "provenance": []
    },
    "kernelspec": {
      "name": "python3",
      "display_name": "Python 3"
    },
    "language_info": {
      "name": "python"
    }
  },
  "cells": [
    {
      "cell_type": "code",
      "execution_count": 1,
      "metadata": {
        "colab": {
          "base_uri": "https://localhost:8080/"
        },
        "cellView": "form",
        "id": "-0B2casBBSIQ",
        "outputId": "6e2209de-7509-48a6-eb33-a81cf8a59100"
      },
      "outputs": [
        {
          "output_type": "stream",
          "name": "stdout",
          "text": [
            "RP0K<St3G(9\\0OeHM@52\n"
          ]
        }
      ],
      "source": [
        "#@title Generate 20 character password\n",
        "%%bash\n",
        "if [ -f '/usr/bin/ascii85' ]\n",
        "then\n",
        "  echo\n",
        "else\n",
        "  sudo apt-get install -y ruby-ascii85 &> /dev/null\n",
        "fi\n",
        "\n",
        "cat /dev/random | head -4 | sha384sum | ascii85 | tr -d \"\\n\" | cut -c 6-25"
      ]
    }
  ]
}
