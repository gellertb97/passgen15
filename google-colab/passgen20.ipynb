{
  "nbformat": 4,
  "nbformat_minor": 0,
  "metadata": {
    "colab": {
      "name": "passgen20.ipynb",
      "provenance": []
    },
    "kernelspec": {
      "name": "python3",
      "display_name": "Python 3"
    },
    "language_info": {
      "name": "python"
    }
  },
  "cells": [
    {
      "cell_type": "code",
      "execution_count": null,
      "metadata": {
        "cellView": "form",
        "id": "-0B2casBBSIQ"
      },
      "outputs": [],
      "source": [
        "#@title Generate 20 character password\n",
        "%%bash\n",
        "if [ -f '/usr/bin/ascii85' ]\n",
        "then\n",
        "  echo\n",
        "else\n",
        "  sudo apt-get install -y ruby-ascii85 &> /dev/null\n",
        "fi\n",
        "\n",
        "cat /dev/random | head -4 | sha384sum | ascii85 | tr -d \"\\n\" | cut -c 6-25"
      ]
    }
  ]
}
